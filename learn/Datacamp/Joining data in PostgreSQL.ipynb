{
 "cells": [
  {
   "cell_type": "code",
   "execution_count": null,
   "metadata": {
    "collapsed": true
   },
   "outputs": [],
   "source": [
    "SELECT cities.name AS city, countries.name AS country, countries.region AS region FROM cities INNER JOIN countries ON cities.country_code = countries.code;"
   ]
  },
  {
   "cell_type": "code",
   "execution_count": null,
   "metadata": {},
   "outputs": [],
   "source": [
    "SELECT c.code, name, region, e.year, fertility_rate, unemployment_rate\n",
    "FROM countries AS c\n",
    "INNER JOIN populations AS p\n",
    "ON c.code = p.country_code\n",
    "INNER JOIN economies AS e\n",
    "ON c.code = e.code AND e.year = p.year;"
   ]
  },
  {
   "cell_type": "code",
   "execution_count": null,
   "metadata": {},
   "outputs": [],
   "source": [
    "-- get the city name (and alias it), the country code,\n",
    "-- the country name (and alias it), the region,\n",
    "-- and the city proper population\n",
    "SELECT c1.name AS city, code, c2.name AS country,\n",
    "       region, city_proper_pop\n",
    "-- specify left table\n",
    "FROM cities AS c1\n",
    "-- specify right table and type of join\n",
    "INNER JOIN countries AS c2\n",
    "-- how should the tables be matched?\n",
    "ON c1.country_code = c2.code\n",
    "-- sort based on descending country code\n",
    "ORDER BY code DESC;"
   ]
  },
  {
   "cell_type": "code",
   "execution_count": null,
   "metadata": {},
   "outputs": [],
   "source": [
    "# Full join\n",
    "SELECT name AS country, code, region, basic_unit\n",
    "FROM countries\n",
    "FULL JOIN currencies\n",
    "USING (code)\n",
    "WHERE region = 'North America' OR region IS NULL\n",
    "ORDER BY region;"
   ]
  },
  {
   "cell_type": "code",
   "execution_count": null,
   "metadata": {},
   "outputs": [],
   "source": [
    "# UNIONS\n",
    "SELECT code, year\n",
    "FROM economies\n",
    "UNION ALL\n",
    "SELECT country_code, year\n",
    "FROM populations\n",
    "ORDER BY code, year;\n",
    "\n",
    "# INTERSECT\n",
    "SELECT code, year\n",
    "FROM economies\n",
    "INTERSECT\n",
    "SELECT country_code, year\n",
    "FROM populations\n",
    "ORDER BY code, year;"
   ]
  },
  {
   "cell_type": "code",
   "execution_count": null,
   "metadata": {},
   "outputs": [],
   "source": [
    "# Sub-query\n",
    "SELECT distinct name FROM languages\n",
    "WHERE code IN (SELECT code FROM countries\n",
    "WHERE region = 'Middle East')\n",
    "ORDER BY name;\n",
    "\n",
    "# All together challenge\n",
    "-- select the city name\n",
    "SELECT name\n",
    "-- alias the table where city name resides\n",
    "FROM cities AS c1\n",
    "-- choose only records matching the result of multiple set theory clauses\n",
    "WHERE country_code IN\n",
    "(\n",
    "    -- select appropriate field from economies AS e\n",
    "    SELECT e.code\n",
    "    FROM economies AS e\n",
    "    -- get all additional (unique) values of the field from currencies AS c2  \n",
    "    UNION\n",
    "    SELECT c2.code\n",
    "    FROM currencies AS c2\n",
    "    -- exclude those appearing in populations AS p\n",
    "    EXCEPT\n",
    "    SELECT p.country_code\n",
    "    FROM populations AS p\n",
    ");"
   ]
  },
  {
   "cell_type": "code",
   "execution_count": null,
   "metadata": {},
   "outputs": [],
   "source": [
    "# Sub-queries in SELECT statements\n",
    "SELECT * FROM populations\n",
    "WHERE life_expectancy > 1.15 * ( \n",
    "SELECT avg(life_expectancy) FROM populations\n",
    "WHERE year = '2015')\n",
    "AND year = '2015'\n",
    "\n",
    "# Sub-queries in FROM statement\n",
    "SELECT local_name, lang_num FROM countries,\n",
    "(SELECT COUNT(*) AS lang_num, code FROM languages\n",
    "GROUP BY code) AS subquery\n",
    "WHERE countries.code = subquery.code\n",
    "ORDER BY lang_num DESC\n",
    "\n",
    "# Big one\n",
    "SELECT name, continent, inflation_rate\n",
    "FROM countries\n",
    "INNER JOIN economies\n",
    "ON countries.code = economies.code\n",
    "WHERE year = 2015\n",
    "    AND inflation_rate IN (\n",
    "        SELECT MAX(inflation_rate) AS max_inf\n",
    "        FROM (\n",
    "             SELECT name, continent, inflation_rate\n",
    "             FROM countries\n",
    "             INNER JOIN economies\n",
    "             ON countries.code = economies.code\n",
    "             WHERE year = 2015) AS subquery\n",
    "        GROUP BY continent);"
   ]
  },
  {
   "cell_type": "code",
   "execution_count": null,
   "metadata": {},
   "outputs": [],
   "source": [
    "# Final Challenge 1/3\n",
    "SELECT DISTINCT c.name, e.total_investment, e.imports\n",
    "FROM countries AS c\n",
    "LEFT JOIN economies AS e\n",
    "ON (c.code = e.code\n",
    "  AND c.code IN (\n",
    "    SELECT l.code\n",
    "    FROM languages AS l\n",
    "    WHERE l.official = 'true'\n",
    "  ) )\n",
    "WHERE year = '2015' AND region = 'Central America'\n",
    "ORDER BY name;\n",
    "\n",
    "# Final Challenge 2/3\n",
    "-- choose fields\n",
    "SELECT c.region, c.continent, AVG(p.fertility_rate) AS avg_fert_rate\n",
    "-- left table\n",
    "FROM countries AS c\n",
    "-- right table\n",
    "INNER JOIN populations AS p\n",
    "-- join conditions\n",
    "ON c.code = p.country_code\n",
    "-- specific records matching a condition\n",
    "WHERE year = 2015\n",
    "-- aggregated for each what?\n",
    "GROUP BY region, continent\n",
    "-- how should we sort?\n",
    "ORDER BY avg_fert_rate;\n",
    "\n",
    "# Final Challenge 3/3\n",
    "SELECT name, country_code, city_proper_pop, metroarea_pop,  \n",
    "      city_proper_pop / metroarea_pop * 100 AS city_perc\n",
    "FROM cities\n",
    "WHERE name IN\n",
    "  (SELECT capital\n",
    "   FROM countries\n",
    "   WHERE (continent = 'Europe'\n",
    "      OR continent LIKE '%America%'))\n",
    "     AND metroarea_pop IS NOT NULL\n",
    "ORDER BY city_perc desc\n",
    "LIMIT 10;"
   ]
  }
 ],
 "metadata": {
  "kernelspec": {
   "display_name": "Python 3",
   "language": "python",
   "name": "python3"
  },
  "language_info": {
   "codemirror_mode": {
    "name": "ipython",
    "version": 3
   },
   "file_extension": ".py",
   "mimetype": "text/x-python",
   "name": "python",
   "nbconvert_exporter": "python",
   "pygments_lexer": "ipython3",
   "version": "3.6.8"
  }
 },
 "nbformat": 4,
 "nbformat_minor": 1
}
