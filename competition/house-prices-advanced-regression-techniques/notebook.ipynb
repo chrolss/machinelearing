{
 "cells": [
  {
   "cell_type": "code",
   "execution_count": 1,
   "metadata": {
    "collapsed": true
   },
   "outputs": [],
   "source": [
    "import pandas as pd\n",
    "import numpy as np\n"
   ]
  },
  {
   "cell_type": "code",
   "execution_count": 2,
   "metadata": {
    "collapsed": true
   },
   "outputs": [],
   "source": [
    "filepath = \"train.csv\"\n",
    "df = pd.read_csv(filepath)"
   ]
  },
  {
   "cell_type": "markdown",
   "metadata": {},
   "source": [
    "Drop FireplaceQu, PoolQC, Fence, MiscFeature, Alley"
   ]
  },
  {
   "cell_type": "code",
   "execution_count": 4,
   "metadata": {
    "collapsed": true
   },
   "outputs": [],
   "source": [
    "# old version\n",
    "df = df.drop(['Alley'],axis=1)\n",
    "df = df.drop(['PoolQC'],axis=1)\n",
    "df = df.drop(['Fence'],axis=1)\n",
    "df = df.drop(['FireplaceQu'],axis=1)"
   ]
  },
  {
   "cell_type": "code",
   "execution_count": 83,
   "metadata": {
    "collapsed": true
   },
   "outputs": [],
   "source": [
    "# new version\n",
    "df = df.drop(['PoolQC'],axis=1)\n",
    "df = df.drop(['FireplaceQu'],axis=1)\n",
    "df = df.drop(['MiscFeature'],axis=1)"
   ]
  },
  {
   "cell_type": "code",
   "execution_count": 3,
   "metadata": {},
   "outputs": [
    {
     "name": "stdout",
     "output_type": "stream",
     "text": [
      "yes\n"
     ]
    }
   ],
   "source": [
    "if (df.iloc[:,5].dtype == 'O'):\n",
    "    print(\"yes\")\n",
    "\n"
   ]
  },
  {
   "cell_type": "markdown",
   "metadata": {},
   "source": [
    "Label encoding"
   ]
  },
  {
   "cell_type": "code",
   "execution_count": 4,
   "metadata": {},
   "outputs": [],
   "source": [
    "#more intelligent label encoding and NA-filling for 81 columns\n",
    "for i in range(0,81):\n",
    "    if (df.iloc[:,i].dtype == 'O'):\n",
    "        df.iloc[:,i] = df.iloc[:,i].fillna(\"0\")\n",
    "    else:\n",
    "        df.iloc[:,i] = df.iloc[:,i].fillna(df.iloc[:,i].mean())\n",
    "\n",
    "    "
   ]
  },
  {
   "cell_type": "code",
   "execution_count": 47,
   "metadata": {
    "collapsed": true
   },
   "outputs": [],
   "source": [
    "# OLD OLD dont use\n",
    "df = df.fillna(df.mean())\n",
    "df = df.apply(lambda x:x.fillna(x.value_counts().index[0]))"
   ]
  },
  {
   "cell_type": "code",
   "execution_count": 8,
   "metadata": {},
   "outputs": [
    {
     "name": "stdout",
     "output_type": "stream",
     "text": [
      "Collecting xgboost\n",
      "\u001b[?25l  Downloading https://files.pythonhosted.org/packages/c6/1e/6d13dacd1d5ea3273210162292e818f82629328ce51cdb7eb633f03e0b52/xgboost-0.80.tar.gz (595kB)\n",
      "\u001b[K    100% |████████████████████████████████| 604kB 7.2MB/s eta 0:00:01\n",
      "\u001b[?25hRequirement already satisfied: numpy in /Users/christian/anaconda3/lib/python3.6/site-packages (from xgboost) (1.12.1)\n",
      "Requirement already satisfied: scipy in /Users/christian/anaconda3/lib/python3.6/site-packages (from xgboost) (1.0.0)\n",
      "Building wheels for collected packages: xgboost\n",
      "  Running setup.py bdist_wheel for xgboost ... \u001b[?25ldone\n",
      "\u001b[?25h  Stored in directory: /Users/christian/Library/Caches/pip/wheels/82/2d/9a/d9014a0add86cdad990022418a905ca9e93948ee8862ae755d\n",
      "Successfully built xgboost\n",
      "Installing collected packages: xgboost\n",
      "Successfully installed xgboost-0.80\n"
     ]
    }
   ],
   "source": [
    "!pip install xgboost"
   ]
  },
  {
   "cell_type": "code",
   "execution_count": 5,
   "metadata": {
    "collapsed": true
   },
   "outputs": [],
   "source": [
    "from sklearn import preprocessing\n",
    "le = preprocessing.LabelEncoder()\n",
    "df = df.apply(preprocessing.LabelEncoder().fit_transform)"
   ]
  },
  {
   "cell_type": "code",
   "execution_count": 6,
   "metadata": {
    "collapsed": true
   },
   "outputs": [],
   "source": [
    "from sklearn.model_selection import train_test_split\n",
    "from sklearn.preprocessing import Imputer\n",
    "y = df['SalePrice']\n",
    "X = df.drop(['SalePrice'],axis=1)\n",
    "train_X, test_X, train_y, test_y = train_test_split(X.values,y.values, test_size=.2)"
   ]
  },
  {
   "cell_type": "code",
   "execution_count": 21,
   "metadata": {},
   "outputs": [],
   "source": [
    "import xgboost as xgb\n",
    "my_model= xgb.XGBRegressor(n_estimators=2000, learning_rate=0.35)"
   ]
  },
  {
   "cell_type": "code",
   "execution_count": 22,
   "metadata": {},
   "outputs": [
    {
     "data": {
      "text/plain": [
       "XGBRegressor(base_score=0.5, booster='gbtree', colsample_bylevel=1,\n",
       "       colsample_bytree=1, gamma=0, learning_rate=0.35, max_delta_step=0,\n",
       "       max_depth=3, min_child_weight=1, missing=None, n_estimators=2000,\n",
       "       n_jobs=1, nthread=None, objective='reg:linear', random_state=0,\n",
       "       reg_alpha=0, reg_lambda=1, scale_pos_weight=1, seed=None,\n",
       "       silent=True, subsample=1)"
      ]
     },
     "execution_count": 22,
     "metadata": {},
     "output_type": "execute_result"
    }
   ],
   "source": [
    "my_model.fit(train_X, train_y, early_stopping_rounds=500, eval_set=[(test_X, test_y)],verbose=False)"
   ]
  },
  {
   "cell_type": "code",
   "execution_count": 29,
   "metadata": {},
   "outputs": [
    {
     "name": "stdout",
     "output_type": "stream",
     "text": [
      "Mean Absolute Error : 39.8632058771\n",
      "Mean Squared Error: 2750.93237161\n",
      "Percentage error: -12.4314184694%\n"
     ]
    }
   ],
   "source": [
    "# make predictions to evaluate\n",
    "# standard, no tuning -> 35.98 & 2334.3\n",
    "# n_est = 1000, early_stopping_round = 5 -> 35.6 & 2290.3\n",
    "# n_est = 1000, early_stopping_round = 5, learning_rate = 0.05 -> 35.3 & 2235.4\n",
    "# n_est = 1000, early_stopping_round = 5, learning_rate = 0.05 (drop new version) -> 34.1 & 2148.0\n",
    "# n_est = 2000, early_stopping_round = 100, learning_rate = 0.05 (drop new version) -> 32.8 & 2074.1\n",
    "# n_est = 2000, early_stopping_round = 300, learning_rate = 0.03 (drop new version) -> 34.0 & 1901.4\n",
    "# n_est = 2000, early_stopping_round = 500, learning_rate = 0.025 (drop new version) -> 33.4 & 1848.9\n",
    "predictions = my_model.predict(test_X)\n",
    "# mean absolute error\n",
    "from sklearn.metrics import mean_absolute_error\n",
    "print('Mean Absolute Error : ' + str(mean_absolute_error(predictions, test_y)))\n",
    "# mean squared error\n",
    "from sklearn.metrics import mean_squared_error\n",
    "print('Mean Squared Error: ' + str(mean_squared_error(predictions, test_y)))\n",
    "percentErr = 0\n",
    "for j in range(0,len(test_y)):\n",
    "    percentErr = percentErr + (test_y[j]-predictions[j])/test_y[j]\n",
    "    \n",
    "percentErr = percentErr / len(test_y)\n",
    "print('Percentage error: ' + str(percentErr*100) + '%')"
   ]
  },
  {
   "cell_type": "code",
   "execution_count": 24,
   "metadata": {},
   "outputs": [
    {
     "name": "stdout",
     "output_type": "stream",
     "text": [
      "59\n",
      "141\n",
      "196\n"
     ]
    },
    {
     "data": {
      "text/plain": [
       "292"
      ]
     },
     "execution_count": 24,
     "metadata": {},
     "output_type": "execute_result"
    }
   ],
   "source": [
    "#testing where the largest error is\n",
    "err_marg = 5\n",
    "for i in range (0,292):\n",
    "    if (abs((test_y[i] - predictions[i])/test_y[i])>err_marg):\n",
    "        print(i)\n",
    "len(test_y)"
   ]
  },
  {
   "cell_type": "code",
   "execution_count": 84,
   "metadata": {},
   "outputs": [
    {
     "name": "stdout",
     "output_type": "stream",
     "text": [
      "test is 82  and prediction  128.8132\n"
     ]
    },
    {
     "data": {
      "text/plain": [
       "False"
      ]
     },
     "execution_count": 84,
     "metadata": {},
     "output_type": "execute_result"
    }
   ],
   "source": [
    "print(\"test is\",test_y[62],\" and prediction \",predictions[62])\n",
    "abs(test_y[62] - predictions[62])>180\n"
   ]
  },
  {
   "cell_type": "code",
   "execution_count": 93,
   "metadata": {},
   "outputs": [
    {
     "data": {
      "text/plain": [
       "Id                -1\n",
       "MSSubClass         0\n",
       "MSZoning          -3\n",
       "LotFrontage      -21\n",
       "LotArea         -589\n",
       "Street             0\n",
       "Alley              0\n",
       "LotShape           0\n",
       "LandContour        0\n",
       "Utilities          0\n",
       "LotConfig          0\n",
       "LandSlope          0\n",
       "Neighborhood       2\n",
       "Condition1         0\n",
       "Condition2         0\n",
       "BldgType           0\n",
       "HouseStyle         0\n",
       "OverallQual       -2\n",
       "OverallCond       -3\n",
       "YearBuilt         -7\n",
       "YearRemodAdd      -6\n",
       "RoofStyle          0\n",
       "RoofMatl           0\n",
       "Exterior1st      -12\n",
       "Exterior2nd      -13\n",
       "MasVnrType         0\n",
       "MasVnrArea         0\n",
       "ExterQual          0\n",
       "ExterCond          0\n",
       "Foundation         0\n",
       "                ... \n",
       "BedroomAbvGr      -2\n",
       "KitchenAbvGr       0\n",
       "KitchenQual        0\n",
       "TotRmsAbvGrd      -2\n",
       "Functional         0\n",
       "Fireplaces         0\n",
       "FireplaceQu        0\n",
       "GarageType         4\n",
       "GarageYrBlt        2\n",
       "GarageFinish       1\n",
       "GarageCars         0\n",
       "GarageArea        16\n",
       "GarageQual         0\n",
       "GarageCond         0\n",
       "PavedDrive         0\n",
       "WoodDeckSF         0\n",
       "OpenPorchSF        0\n",
       "EnclosedPorch      0\n",
       "3SsnPorch          0\n",
       "ScreenPorch        0\n",
       "PoolArea           0\n",
       "PoolQC             0\n",
       "Fence              0\n",
       "MiscFeature        0\n",
       "MiscVal            0\n",
       "MoSold             6\n",
       "YrSold            -3\n",
       "SaleType           0\n",
       "SaleCondition     -4\n",
       "SalePrice       -170\n",
       "Length: 81, dtype: int64"
      ]
     },
     "execution_count": 93,
     "metadata": {},
     "output_type": "execute_result"
    }
   ],
   "source": [
    "# Outlier analysis - we seem to have one item in our test data at index \"101\" which corresponds to Id = 916 in initial df\n",
    "# This post has a sale price that was 1000 USD....\n",
    "test_X[101]\n",
    "df.iloc[916,:] - df.iloc[917,:]"
   ]
  },
  {
   "cell_type": "code",
   "execution_count": 13,
   "metadata": {},
   "outputs": [
    {
     "data": {
      "image/png": "[encoded data removed]",
      "text/plain": [
       "<matplotlib.figure.Figure at 0x1a12646828>"
      ]
     },
     "metadata": {},
     "output_type": "display_data"
    }
   ],
   "source": [
    "import matplotlib.pyplot  as plt\n",
    "plt.plot(test_y)\n",
    "plt.plot(predictions)\n",
    "plt.show()"
   ]
  },
  {
   "cell_type": "code",
   "execution_count": 14,
   "metadata": {},
   "outputs": [
    {
     "data": {
      "image/png": "[encoded data removed]",
      "text/plain": [
       "<matplotlib.figure.Figure at 0x1a169bb470>"
      ]
     },
     "metadata": {},
     "output_type": "display_data"
    }
   ],
   "source": [
    "plt.plot((test_y - predictions)/test_y)\n",
    "plt.show()"
   ]
  },
  {
   "cell_type": "code",
   "execution_count": 80,
   "metadata": {},
   "outputs": [
    {
     "data": {
      "text/plain": [
       "0       1461\n",
       "1       1462\n",
       "2       1463\n",
       "3       1464\n",
       "4       1465\n",
       "5       1466\n",
       "6       1467\n",
       "7       1468\n",
       "8       1469\n",
       "9       1470\n",
       "10      1471\n",
       "11      1472\n",
       "12      1473\n",
       "13      1474\n",
       "14      1475\n",
       "15      1476\n",
       "16      1477\n",
       "17      1478\n",
       "18      1479\n",
       "19      1480\n",
       "20      1481\n",
       "21      1482\n",
       "22      1483\n",
       "23      1484\n",
       "24      1485\n",
       "25      1486\n",
       "26      1487\n",
       "27      1488\n",
       "28      1489\n",
       "29      1490\n",
       "        ... \n",
       "1429    2890\n",
       "1430    2891\n",
       "1431    2892\n",
       "1432    2893\n",
       "1433    2894\n",
       "1434    2895\n",
       "1435    2896\n",
       "1436    2897\n",
       "1437    2898\n",
       "1438    2899\n",
       "1439    2900\n",
       "1440    2901\n",
       "1441    2902\n",
       "1442    2903\n",
       "1443    2904\n",
       "1444    2905\n",
       "1445    2906\n",
       "1446    2907\n",
       "1447    2908\n",
       "1448    2909\n",
       "1449    2910\n",
       "1450    2911\n",
       "1451    2912\n",
       "1452    2913\n",
       "1453    2914\n",
       "1454    2915\n",
       "1455    2916\n",
       "1456    2917\n",
       "1457    2918\n",
       "1458    2919\n",
       "Name: Id, Length: 1459, dtype: int64"
      ]
     },
     "execution_count": 80,
     "metadata": {},
     "output_type": "execute_result"
    }
   ],
   "source": [
    "# START PREDICTING THE COMPETITION DATA\n",
    "testFile = \"test.csv\"\n",
    "\n",
    "test_data = pd.read_csv(testFile)\n",
    "test_data['Id']"
   ]
  },
  {
   "cell_type": "code",
   "execution_count": 142,
   "metadata": {
    "collapsed": true
   },
   "outputs": [],
   "source": [
    "# Manipulate the data by dropping unwanted columns (we will not drop columns in the new way of handling the dataa)\n",
    "test_data = test_data.drop(['PoolQC'],axis=1)\n",
    "test_data = test_data.drop(['FireplaceQu'],axis=1)\n",
    "test_data = test_data.drop(['MiscFeature'],axis=1)"
   ]
  },
  {
   "cell_type": "code",
   "execution_count": 72,
   "metadata": {
    "collapsed": true
   },
   "outputs": [],
   "source": [
    "test_data = test_data.reindex(X.columns, axis=1)"
   ]
  },
  {
   "cell_type": "code",
   "execution_count": 76,
   "metadata": {
    "collapsed": true
   },
   "outputs": [],
   "source": [
    "# More intelligent label encoding and NA-filling\n",
    "for i in range(0,80):\n",
    "    if (test_data.iloc[:,i].dtype == 'O'):\n",
    "        test_data.iloc[:,i] = test_data.iloc[:,i].fillna(\"0\")\n",
    "    else:\n",
    "        test_data.iloc[:,i] = test_data.iloc[:,i].fillna(test_data.iloc[:,i].mean())\n",
    "\n",
    "test_data = test_data.apply(preprocessing.LabelEncoder().fit_transform)"
   ]
  },
  {
   "cell_type": "code",
   "execution_count": 144,
   "metadata": {
    "collapsed": true
   },
   "outputs": [],
   "source": [
    "# OLD OLD OLD Labelencode the data that is missing\n",
    "\n",
    "test_data = test_data.apply(lambda x:x.fillna(x.value_counts().index[0]))\n",
    "test_data = test_data.apply(preprocessing.LabelEncoder().fit_transform)"
   ]
  },
  {
   "cell_type": "code",
   "execution_count": 77,
   "metadata": {},
   "outputs": [
    {
     "data": {
      "text/html": [
       "<div>\n",
       "<style scoped>\n",
       "    .dataframe tbody tr th:only-of-type {\n",
       "        vertical-align: middle;\n",
       "    }\n",
       "\n",
       "    .dataframe tbody tr th {\n",
       "        vertical-align: top;\n",
       "    }\n",
       "\n",
       "    .dataframe thead th {\n",
       "        text-align: right;\n",
       "    }\n",
       "</style>\n",
       "<table border=\"1\" class=\"dataframe\">\n",
       "  <thead>\n",
       "    <tr style=\"text-align: right;\">\n",
       "      <th></th>\n",
       "      <th>Id</th>\n",
       "      <th>MSSubClass</th>\n",
       "      <th>MSZoning</th>\n",
       "      <th>LotFrontage</th>\n",
       "      <th>LotArea</th>\n",
       "      <th>Street</th>\n",
       "      <th>Alley</th>\n",
       "      <th>LotShape</th>\n",
       "      <th>LandContour</th>\n",
       "      <th>Utilities</th>\n",
       "      <th>...</th>\n",
       "      <th>ScreenPorch</th>\n",
       "      <th>PoolArea</th>\n",
       "      <th>PoolQC</th>\n",
       "      <th>Fence</th>\n",
       "      <th>MiscFeature</th>\n",
       "      <th>MiscVal</th>\n",
       "      <th>MoSold</th>\n",
       "      <th>YrSold</th>\n",
       "      <th>SaleType</th>\n",
       "      <th>SaleCondition</th>\n",
       "    </tr>\n",
       "  </thead>\n",
       "  <tbody>\n",
       "    <tr>\n",
       "      <th>0</th>\n",
       "      <td>0</td>\n",
       "      <td>0</td>\n",
       "      <td>3</td>\n",
       "      <td>57</td>\n",
       "      <td>777</td>\n",
       "      <td>1</td>\n",
       "      <td>0</td>\n",
       "      <td>3</td>\n",
       "      <td>3</td>\n",
       "      <td>1</td>\n",
       "      <td>...</td>\n",
       "      <td>18</td>\n",
       "      <td>0</td>\n",
       "      <td>0</td>\n",
       "      <td>3</td>\n",
       "      <td>0</td>\n",
       "      <td>0</td>\n",
       "      <td>5</td>\n",
       "      <td>4</td>\n",
       "      <td>9</td>\n",
       "      <td>4</td>\n",
       "    </tr>\n",
       "  </tbody>\n",
       "</table>\n",
       "<p>1 rows × 80 columns</p>\n",
       "</div>"
      ],
      "text/plain": [
       "   Id  MSSubClass  MSZoning  LotFrontage  LotArea  Street  Alley  LotShape  \\\n",
       "0   0           0         3           57      777       1      0         3   \n",
       "\n",
       "   LandContour  Utilities      ...        ScreenPorch  PoolArea  PoolQC  \\\n",
       "0            3          1      ...                 18         0       0   \n",
       "\n",
       "   Fence  MiscFeature  MiscVal  MoSold  YrSold  SaleType  SaleCondition  \n",
       "0      3            0        0       5       4         9              4  \n",
       "\n",
       "[1 rows x 80 columns]"
      ]
     },
     "execution_count": 77,
     "metadata": {},
     "output_type": "execute_result"
    }
   ],
   "source": [
    "test_data.head(1)"
   ]
  },
  {
   "cell_type": "code",
   "execution_count": 78,
   "metadata": {
    "collapsed": true
   },
   "outputs": [],
   "source": [
    "# Make competition prediction\n",
    "test_preds = my_model.predict(test_data.values)"
   ]
  },
  {
   "cell_type": "code",
   "execution_count": 81,
   "metadata": {
    "collapsed": true
   },
   "outputs": [],
   "source": [
    "# Save prediction to competition submission file\n",
    "output = pd.DataFrame({'Id': test_data['Id'],\n",
    "                       'SalePrice': test_preds*1000})\n",
    "\n",
    "output.to_csv('submission.csv', index=False)"
   ]
  }
 ],
 "metadata": {
  "kernelspec": {
   "display_name": "Python 3",
   "language": "python",
   "name": "python3"
  },
  "language_info": {
   "codemirror_mode": {
    "name": "ipython",
    "version": 3
   },
   "file_extension": ".py",
   "mimetype": "text/x-python",
   "name": "python",
   "nbconvert_exporter": "python",
   "pygments_lexer": "ipython3",
   "version": "3.6.6"
  }
 },
 "nbformat": 4,
 "nbformat_minor": 2
}
