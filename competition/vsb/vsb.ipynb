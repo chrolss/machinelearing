{
 "cells": [
  {
   "cell_type": "markdown",
   "metadata": {
    "collapsed": true
   },
   "source": []
  },
  {
   "cell_type": "code",
   "execution_count": null,
   "metadata": {},
   "outputs": [],
   "source": [
    "#Import libraries\n",
    "import pandas as pd\n",
    "import pyarrow.parquet as pq\n",
    "import matplotlib.pyplot as plt\n",
    "import seaborn as sns"
   ]
  },
  {
   "cell_type": "code",
   "execution_count": null,
   "metadata": {},
   "outputs": [],
   "source": [
    "#Setup and load files\n",
    "metadata_test = 'competition/vsb/vsb-power-line-fault-detection/metadata_test.csv'\n",
    "metadata_train = 'competition/vsb/vsb-power-line-fault-detection/metadata_train.csv'\n",
    "parquet_train = 'competition/vsb/vsb-power-line-fault-detection/train.parquet'\n",
    "mdtest = pd.read_csv(metadata_test)\n",
    "mdtrain = pd.read_csv(metadata_train)\n",
    "df = pq.read_pandas(parquet_train).to_pandas()\n",
    "df.head(9)"
   ]
  },
  {
   "cell_type": "markdown",
   "metadata": {},
   "source": []
  }
 ],
 "metadata": {
  "kernelspec": {
   "display_name": "Python 2",
   "language": "python",
   "name": "python2"
  },
  "language_info": {
   "codemirror_mode": {
    "name": "ipython",
    "version": 2
   },
   "file_extension": ".py",
   "mimetype": "text/x-python",
   "name": "python",
   "nbconvert_exporter": "python",
   "pygments_lexer": "ipython2",
   "version": "2.7.6"
  }
 },
 "nbformat": 4,
 "nbformat_minor": 0
}
