{
 "cells": [
  {
   "cell_type": "markdown",
   "metadata": {
    "collapsed": true
   },
   "source": []
  },
  {
   "cell_type": "markdown",
   "metadata": {},
   "source": []
  },
  {
   "cell_type": "markdown",
   "metadata": {},
   "source": []
  },
  {
   "cell_type": "markdown",
   "metadata": {},
   "source": []
  },
  {
   "cell_type": "markdown",
   "metadata": {},
   "source": []
  },
  {
   "cell_type": "markdown",
   "metadata": {},
   "source": []
  },
  {
   "cell_type": "markdown",
   "metadata": {},
   "source": []
  },
  {
   "cell_type": "markdown",
   "metadata": {},
   "source": []
  },
  {
   "cell_type": "markdown",
   "metadata": {},
   "source": []
  },
  {
   "cell_type": "code",
   "execution_count": null,
   "metadata": {},
   "outputs": [],
   "source": [
    "# Plot the aapl time series in blue\n",
    "plt.plot(aapl, color='blue', label='AAPL')\n",
    "\n",
    "# Plot the ibm time series in green\n",
    "plt.plot(ibm, color='green', label='IBM')\n",
    "\n",
    "# Plot the csco time series in red\n",
    "plt.plot(csco, color='red', label='CSCO')\n",
    "\n",
    "# Plot the msft time series in magenta\n",
    "plt.plot(msft, color='magenta', label='MSFT')\n",
    "\n",
    "# Add a legend in the top left corner of the plot\n",
    "plt.legend(loc='upper left')\n",
    "\n",
    "# Specify the orientation of the xticks\n",
    "plt.xticks(rotation=60)\n",
    "\n",
    "# Slice aapl from Nov. 2007 to Apr. 2008 inclusive: view\n",
    "view = aapl['2007-11':'2008-04']\n",
    "\n",
    "# Plot the entire series \n",
    "plt.plot(aapl)\n",
    "plt.xticks(rotation=45)\n",
    "plt.title('AAPL: 2001-2011')\n",
    "\n",
    "# Specify the axes\n",
    "plt.axes([0.25, 0.5, 0.35, 0.35])\n",
    "\n",
    "# Plot the sliced series in red using the current axes\n",
    "plt.plot(view, color='red')\n",
    "plt.xticks(rotation=45)\n",
    "plt.title('2007/11-2008/04')\n",
    "plt.show()"
   ]
  },
  {
   "cell_type": "code",
   "execution_count": null,
   "metadata": {},
   "outputs": [],
   "source": []
  },
  {
   "cell_type": "code",
   "execution_count": null,
   "metadata": {},
   "outputs": [],
   "source": []
  }
 ],
 "metadata": {
  "kernelspec": {
   "display_name": "Python 2",
   "language": "python",
   "name": "python2"
  },
  "language_info": {
   "codemirror_mode": {
    "name": "ipython",
    "version": 2
   },
   "file_extension": ".py",
   "mimetype": "text/x-python",
   "name": "python",
   "nbconvert_exporter": "python",
   "pygments_lexer": "ipython2",
   "version": "2.7.6"
  }
 },
 "nbformat": 4,
 "nbformat_minor": 0
}
